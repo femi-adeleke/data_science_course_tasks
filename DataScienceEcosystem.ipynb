{
 "cells": [
  {
   "cell_type": "markdown",
   "id": "ed061434-3ed1-442a-a9a3-7bfe4506fb3c",
   "metadata": {},
   "source": [
    "# Data Science Tools and Ecosystem"
   ]
  },
  {
   "cell_type": "markdown",
   "id": "e6e6f931-8d5c-4bc6-8b19-0f9b182b4a08",
   "metadata": {},
   "source": [
    "In this notebook, Data Science Tools and Ecosystem are summarized."
   ]
  },
  {
   "cell_type": "markdown",
   "id": "fba329e0-d5b9-4941-bc86-49e2823eb171",
   "metadata": {},
   "source": [
    "**Objectives:**\n",
    "* List popular languages for Data Science\n",
    "* List of some commonly used libraries by Data Scientists\n",
    "* List of some Data Science Tools that are Integrated Development Environment"
   ]
  },
  {
   "cell_type": "markdown",
   "id": "65923669-67e8-4f25-8612-dd88bdf3a968",
   "metadata": {},
   "source": [
    "Some of the popular languages that Data Scientists use are:\n",
    "1. Python\n",
    "2. Java\n",
    "3. R\n",
    "4. Scala\n",
    "5. C++"
   ]
  },
  {
   "cell_type": "markdown",
   "id": "a2157ef4-a615-49f3-a239-ff5eaafb4c50",
   "metadata": {},
   "source": [
    "Some of the commonly used libraries used by Data Scientists include:\n",
    "1. Numpy\n",
    "2. Pandas\n",
    "3. Scikit-learn\n",
    "4. Matplotlib\n",
    "5. Seaborn\n",
    "6. Pytouch\n",
    "7. Plotly"
   ]
  },
  {
   "cell_type": "markdown",
   "id": "14872401-bb40-4dc7-a053-95e6dfefbdd3",
   "metadata": {},
   "source": [
    "|Data Science Tools|\n",
    "|------------------|\n",
    "|Microsoft Visual Studio|\n",
    "|Pycharm|\n",
    "|Anaconda Navigator|"
   ]
  },
  {
   "cell_type": "markdown",
   "id": "a4c4a1bf-fe33-465c-a72e-a01479bf1f12",
   "metadata": {},
   "source": [
    "### Below are a few examples of evaluating arithmetic expressions in Python"
   ]
  },
  {
   "cell_type": "code",
   "execution_count": 3,
   "id": "65b6d41a-4478-4c84-8f6d-76851ff00b32",
   "metadata": {},
   "outputs": [
    {
     "data": {
      "text/plain": [
       "17"
      ]
     },
     "execution_count": 3,
     "metadata": {},
     "output_type": "execute_result"
    }
   ],
   "source": [
    "# This a simple arithmetic expression to mutiply then add integers\n",
    "(3*4)+5"
   ]
  },
  {
   "cell_type": "code",
   "execution_count": 4,
   "id": "8a467e92-68ea-4a0a-88fd-b2685deb01b9",
   "metadata": {},
   "outputs": [
    {
     "data": {
      "text/plain": [
       "3.3333333333333335"
      ]
     },
     "execution_count": 4,
     "metadata": {},
     "output_type": "execute_result"
    }
   ],
   "source": [
    "# This will convert 200 minutes to hours by diving by 60\n",
    "200 / 60"
   ]
  },
  {
   "cell_type": "markdown",
   "id": "3b26feb2-f02c-4c4f-970b-77999e657a8d",
   "metadata": {},
   "source": [
    "## Author\n",
    "Enoch O. Adeleke"
   ]
  },
  {
   "cell_type": "code",
   "execution_count": null,
   "id": "84f84820-f463-40e6-96cc-701b6f42e0cf",
   "metadata": {},
   "outputs": [],
   "source": []
  }
 ],
 "metadata": {
  "kernelspec": {
   "display_name": "Python (Demo_env)",
   "language": "python",
   "name": "demo_env"
  },
  "language_info": {
   "codemirror_mode": {
    "name": "ipython",
    "version": 3
   },
   "file_extension": ".py",
   "mimetype": "text/x-python",
   "name": "python",
   "nbconvert_exporter": "python",
   "pygments_lexer": "ipython3",
   "version": "3.13.7"
  }
 },
 "nbformat": 4,
 "nbformat_minor": 5
}
